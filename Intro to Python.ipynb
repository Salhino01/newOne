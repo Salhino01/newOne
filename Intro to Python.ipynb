{
 "cells": [
  {
   "cell_type": "markdown",
   "id": "f87830d8-bf59-441b-8d94-2ca52560e734",
   "metadata": {},
   "source": [
    "How to display \"Hello Worl\" in Python"
   ]
  },
  {
   "cell_type": "code",
   "execution_count": 1,
   "id": "dac2dbcd-0ff7-492f-bd26-914af3b2cf05",
   "metadata": {},
   "outputs": [
    {
     "name": "stdout",
     "output_type": "stream",
     "text": [
      "Hello World\n"
     ]
    }
   ],
   "source": [
    "print (\"Hello World\")"
   ]
  },
  {
   "cell_type": "code",
   "execution_count": null,
   "id": "7fe7b219-13e5-4339-be2d-cec60f4de0d2",
   "metadata": {},
   "outputs": [],
   "source": []
  }
 ],
 "metadata": {
  "kernelspec": {
   "display_name": "Python 3 (ipykernel)",
   "language": "python",
   "name": "python3"
  },
  "language_info": {
   "codemirror_mode": {
    "name": "ipython",
    "version": 3
   },
   "file_extension": ".py",
   "mimetype": "text/x-python",
   "name": "python",
   "nbconvert_exporter": "python",
   "pygments_lexer": "ipython3",
   "version": "3.10.7"
  }
 },
 "nbformat": 4,
 "nbformat_minor": 5
}
